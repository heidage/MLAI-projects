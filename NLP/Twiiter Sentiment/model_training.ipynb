{
 "cells": [
  {
   "cell_type": "code",
   "execution_count": 1,
   "metadata": {},
   "outputs": [],
   "source": [
    "import tensorflow as tf\n",
    "import numpy as np\n",
    "import matplotlib.pyplot as plt\n",
    "import pandas as pd\n",
    "import seaborn as sns\n",
    "import nltk\n",
    "from nltk.corpus import stopwords\n",
    "from nltk.stem import WordNetLemmatizer\n",
    "from nltk.tokenize import word_tokenize\n",
    "from sklearn.model_selection import train_test_split\n",
    "from sklearn.metrics import confusion_matrix, classification_report\n",
    "import re\n",
    "import os\n",
    "import pickle\n",
    "from wordcloud import WordCloud\n",
    "import string\n",
    "from gensim.models import Word2Vec\n",
    "stopwords = stopwords.words('english')"
   ]
  },
  {
   "cell_type": "code",
   "execution_count": 2,
   "metadata": {},
   "outputs": [
    {
     "name": "stdout",
     "output_type": "stream",
     "text": [
      "[==================================================] 100.0% 758.5/758.5MB downloaded\n"
     ]
    }
   ],
   "source": [
    "import gensim.downloader\n",
    "from gensim.models import KeyedVectors\n",
    "\n",
    "# Load the model from gensim-data\n",
    "model = gensim.downloader.load('glove-twitter-200')\n",
    "# save the model to disk\n",
    "model.save('glove-twitter-200.kv')\n",
    "\n",
    "# load the model from disk\n",
    "model = KeyedVectors.load('glove-twitter-200.kv')"
   ]
  },
  {
   "cell_type": "code",
   "execution_count": 3,
   "metadata": {},
   "outputs": [],
   "source": [
    "from gensim.models import KeyedVectors\n",
    "# load the model from disk\n",
    "model = KeyedVectors.load('glove-twitter-200.kv')"
   ]
  },
  {
   "cell_type": "code",
   "execution_count": 4,
   "metadata": {},
   "outputs": [
    {
     "data": {
      "text/html": [
       "<div>\n",
       "<style scoped>\n",
       "    .dataframe tbody tr th:only-of-type {\n",
       "        vertical-align: middle;\n",
       "    }\n",
       "\n",
       "    .dataframe tbody tr th {\n",
       "        vertical-align: top;\n",
       "    }\n",
       "\n",
       "    .dataframe thead th {\n",
       "        text-align: right;\n",
       "    }\n",
       "</style>\n",
       "<table border=\"1\" class=\"dataframe\">\n",
       "  <thead>\n",
       "    <tr style=\"text-align: right;\">\n",
       "      <th></th>\n",
       "      <th>0</th>\n",
       "      <th>1</th>\n",
       "      <th>2</th>\n",
       "      <th>3</th>\n",
       "      <th>4</th>\n",
       "      <th>5</th>\n",
       "    </tr>\n",
       "  </thead>\n",
       "  <tbody>\n",
       "    <tr>\n",
       "      <th>0</th>\n",
       "      <td>0</td>\n",
       "      <td>1467810369</td>\n",
       "      <td>Mon Apr 06 22:19:45 PDT 2009</td>\n",
       "      <td>NO_QUERY</td>\n",
       "      <td>_TheSpecialOne_</td>\n",
       "      <td>@switchfoot http://twitpic.com/2y1zl - Awww, t...</td>\n",
       "    </tr>\n",
       "    <tr>\n",
       "      <th>1</th>\n",
       "      <td>0</td>\n",
       "      <td>1467810672</td>\n",
       "      <td>Mon Apr 06 22:19:49 PDT 2009</td>\n",
       "      <td>NO_QUERY</td>\n",
       "      <td>scotthamilton</td>\n",
       "      <td>is upset that he can't update his Facebook by ...</td>\n",
       "    </tr>\n",
       "    <tr>\n",
       "      <th>2</th>\n",
       "      <td>0</td>\n",
       "      <td>1467810917</td>\n",
       "      <td>Mon Apr 06 22:19:53 PDT 2009</td>\n",
       "      <td>NO_QUERY</td>\n",
       "      <td>mattycus</td>\n",
       "      <td>@Kenichan I dived many times for the ball. Man...</td>\n",
       "    </tr>\n",
       "    <tr>\n",
       "      <th>3</th>\n",
       "      <td>0</td>\n",
       "      <td>1467811184</td>\n",
       "      <td>Mon Apr 06 22:19:57 PDT 2009</td>\n",
       "      <td>NO_QUERY</td>\n",
       "      <td>ElleCTF</td>\n",
       "      <td>my whole body feels itchy and like its on fire</td>\n",
       "    </tr>\n",
       "    <tr>\n",
       "      <th>4</th>\n",
       "      <td>0</td>\n",
       "      <td>1467811193</td>\n",
       "      <td>Mon Apr 06 22:19:57 PDT 2009</td>\n",
       "      <td>NO_QUERY</td>\n",
       "      <td>Karoli</td>\n",
       "      <td>@nationwideclass no, it's not behaving at all....</td>\n",
       "    </tr>\n",
       "  </tbody>\n",
       "</table>\n",
       "</div>"
      ],
      "text/plain": [
       "   0           1                             2         3                4  \\\n",
       "0  0  1467810369  Mon Apr 06 22:19:45 PDT 2009  NO_QUERY  _TheSpecialOne_   \n",
       "1  0  1467810672  Mon Apr 06 22:19:49 PDT 2009  NO_QUERY    scotthamilton   \n",
       "2  0  1467810917  Mon Apr 06 22:19:53 PDT 2009  NO_QUERY         mattycus   \n",
       "3  0  1467811184  Mon Apr 06 22:19:57 PDT 2009  NO_QUERY          ElleCTF   \n",
       "4  0  1467811193  Mon Apr 06 22:19:57 PDT 2009  NO_QUERY           Karoli   \n",
       "\n",
       "                                                   5  \n",
       "0  @switchfoot http://twitpic.com/2y1zl - Awww, t...  \n",
       "1  is upset that he can't update his Facebook by ...  \n",
       "2  @Kenichan I dived many times for the ball. Man...  \n",
       "3    my whole body feels itchy and like its on fire   \n",
       "4  @nationwideclass no, it's not behaving at all....  "
      ]
     },
     "execution_count": 4,
     "metadata": {},
     "output_type": "execute_result"
    }
   ],
   "source": [
    "# Importing the dataset\n",
    "tweets = pd.read_csv('training.1600000.processed.noemoticon.csv',encoding='utf-8',header=None)\n",
    "tweets.head()"
   ]
  },
  {
   "cell_type": "code",
   "execution_count": 5,
   "metadata": {},
   "outputs": [
    {
     "name": "stdout",
     "output_type": "stream",
     "text": [
      "<class 'pandas.core.frame.DataFrame'>\n",
      "RangeIndex: 1600000 entries, 0 to 1599999\n",
      "Data columns (total 6 columns):\n",
      " #   Column        Non-Null Count    Dtype \n",
      "---  ------        --------------    ----- \n",
      " 0   sentiment     1600000 non-null  int64 \n",
      " 1   id            1600000 non-null  int64 \n",
      " 2   date          1600000 non-null  object\n",
      " 3   query_string  1600000 non-null  object\n",
      " 4   user          1600000 non-null  object\n",
      " 5   text          1600000 non-null  object\n",
      "dtypes: int64(2), object(4)\n",
      "memory usage: 73.2+ MB\n"
     ]
    }
   ],
   "source": [
    "tweets.columns = ['sentiment','id','date','query_string','user','text']\n",
    "tweets.info()"
   ]
  },
  {
   "cell_type": "code",
   "execution_count": 6,
   "metadata": {},
   "outputs": [
    {
     "data": {
      "text/plain": [
       "0    800000\n",
       "4    800000\n",
       "Name: sentiment, dtype: int64"
      ]
     },
     "execution_count": 6,
     "metadata": {},
     "output_type": "execute_result"
    }
   ],
   "source": [
    "tweets.drop(['id','date','query_string','user'],inplace=True,axis=1)\n",
    "tweets['sentiment'].value_counts()"
   ]
  },
  {
   "cell_type": "code",
   "execution_count": 7,
   "metadata": {},
   "outputs": [
    {
     "data": {
      "text/plain": [
       "0    800000\n",
       "1    800000\n",
       "Name: sentiment, dtype: int64"
      ]
     },
     "execution_count": 7,
     "metadata": {},
     "output_type": "execute_result"
    }
   ],
   "source": [
    "# Convert the 4 into 1 (positive sentiment)\n",
    "tweets['sentiment'] = tweets['sentiment'].map({0: 0, 4: 1})\n",
    "tweets['sentiment'].value_counts()"
   ]
  },
  {
   "cell_type": "code",
   "execution_count": 8,
   "metadata": {},
   "outputs": [
    {
     "data": {
      "text/plain": [
       "<Axes: xlabel='sentiment', ylabel='count'>"
      ]
     },
     "execution_count": 8,
     "metadata": {},
     "output_type": "execute_result"
    },
    {
     "data": {
      "image/png": "[encoded data removed]",
      "text/plain": [
       "<Figure size 432x288 with 1 Axes>"
      ]
     },
     "metadata": {
      "needs_background": "light"
     },
     "output_type": "display_data"
    }
   ],
   "source": [
    "# Visualising the distribution and the wordcloud of sentiments\n",
    "sns.countplot(data=tweets,x='sentiment')"
   ]
  },
  {
   "cell_type": "code",
   "execution_count": 9,
   "metadata": {},
   "outputs": [
    {
     "data": {
      "text/html": [
       "<div>\n",
       "<style scoped>\n",
       "    .dataframe tbody tr th:only-of-type {\n",
       "        vertical-align: middle;\n",
       "    }\n",
       "\n",
       "    .dataframe tbody tr th {\n",
       "        vertical-align: top;\n",
       "    }\n",
       "\n",
       "    .dataframe thead th {\n",
       "        text-align: right;\n",
       "    }\n",
       "</style>\n",
       "<table border=\"1\" class=\"dataframe\">\n",
       "  <thead>\n",
       "    <tr style=\"text-align: right;\">\n",
       "      <th></th>\n",
       "      <th>sentiment</th>\n",
       "      <th>text</th>\n",
       "    </tr>\n",
       "  </thead>\n",
       "  <tbody>\n",
       "    <tr>\n",
       "      <th>0</th>\n",
       "      <td>0</td>\n",
       "      <td>@switchfoot http://twitpic.com/2y1zl - Awww, t...</td>\n",
       "    </tr>\n",
       "    <tr>\n",
       "      <th>1</th>\n",
       "      <td>0</td>\n",
       "      <td>is upset that he can't update his Facebook by ...</td>\n",
       "    </tr>\n",
       "    <tr>\n",
       "      <th>2</th>\n",
       "      <td>0</td>\n",
       "      <td>@Kenichan I dived many times for the ball. Man...</td>\n",
       "    </tr>\n",
       "    <tr>\n",
       "      <th>3</th>\n",
       "      <td>0</td>\n",
       "      <td>my whole body feels itchy and like its on fire</td>\n",
       "    </tr>\n",
       "    <tr>\n",
       "      <th>4</th>\n",
       "      <td>0</td>\n",
       "      <td>@nationwideclass no, it's not behaving at all....</td>\n",
       "    </tr>\n",
       "    <tr>\n",
       "      <th>...</th>\n",
       "      <td>...</td>\n",
       "      <td>...</td>\n",
       "    </tr>\n",
       "    <tr>\n",
       "      <th>1599995</th>\n",
       "      <td>1</td>\n",
       "      <td>Just woke up. Having no school is the best fee...</td>\n",
       "    </tr>\n",
       "    <tr>\n",
       "      <th>1599996</th>\n",
       "      <td>1</td>\n",
       "      <td>TheWDB.com - Very cool to hear old Walt interv...</td>\n",
       "    </tr>\n",
       "    <tr>\n",
       "      <th>1599997</th>\n",
       "      <td>1</td>\n",
       "      <td>Are you ready for your MoJo Makeover? Ask me f...</td>\n",
       "    </tr>\n",
       "    <tr>\n",
       "      <th>1599998</th>\n",
       "      <td>1</td>\n",
       "      <td>Happy 38th Birthday to my boo of alll time!!! ...</td>\n",
       "    </tr>\n",
       "    <tr>\n",
       "      <th>1599999</th>\n",
       "      <td>1</td>\n",
       "      <td>happy #charitytuesday @theNSPCC @SparksCharity...</td>\n",
       "    </tr>\n",
       "  </tbody>\n",
       "</table>\n",
       "<p>1600000 rows × 2 columns</p>\n",
       "</div>"
      ],
      "text/plain": [
       "         sentiment                                               text\n",
       "0                0  @switchfoot http://twitpic.com/2y1zl - Awww, t...\n",
       "1                0  is upset that he can't update his Facebook by ...\n",
       "2                0  @Kenichan I dived many times for the ball. Man...\n",
       "3                0    my whole body feels itchy and like its on fire \n",
       "4                0  @nationwideclass no, it's not behaving at all....\n",
       "...            ...                                                ...\n",
       "1599995          1  Just woke up. Having no school is the best fee...\n",
       "1599996          1  TheWDB.com - Very cool to hear old Walt interv...\n",
       "1599997          1  Are you ready for your MoJo Makeover? Ask me f...\n",
       "1599998          1  Happy 38th Birthday to my boo of alll time!!! ...\n",
       "1599999          1  happy #charitytuesday @theNSPCC @SparksCharity...\n",
       "\n",
       "[1600000 rows x 2 columns]"
      ]
     },
     "execution_count": 9,
     "metadata": {},
     "output_type": "execute_result"
    }
   ],
   "source": [
    "# processing data now\n",
    "tweets"
   ]
  },
  {
   "cell_type": "code",
   "execution_count": 10,
   "metadata": {},
   "outputs": [],
   "source": [
    "#1. convert to lowercase\n",
    "#2. remove @usernames\n",
    "#3. remove links\n",
    "#4. remove special characters\n",
    "#5. remove stopwords\n",
    "#6. lemmatize the words\n",
    "#7. remove punctuations\n",
    "#8. remove repeating characters\n",
    "#9. remove words with length <= 2\n",
    "#10. remove numbers\n",
    "\n",
    "lemmatizer = WordNetLemmatizer()\n",
    "english_punctuations = string.punctuation\n",
    "translator = str.maketrans('','',english_punctuations)\n",
    "\n",
    "def clean_text(text):\n",
    "    text = text.lower()\n",
    "    text = \" \".join([word for word in str(text).split() if word not in stopwords])\n",
    "    text = re.sub('((www\\.[^\\s]+)|(https?://[^\\s]+))',' ',text)\n",
    "    text = re.sub('[\\w]+\\.com',' ',text)\n",
    "    text = re.sub(r'(.)\\1{2,}', r'\\1\\1', text)\n",
    "    text = re.sub('[0-9]+','',text)\n",
    "    text = re.sub('@[^\\s]+',' ',text)\n",
    "    text = text.translate(translator)\n",
    "    text = re.sub(r'[^a-zA-Z0-9\\s]', '', text)\n",
    "    text = ' '.join([word for word in text.split() if len(word)>2])\n",
    "    return text\n",
    "\n",
    "tweets['clean_text'] = tweets['text'].apply(lambda x: clean_text(x))\n"
   ]
  },
  {
   "cell_type": "code",
   "execution_count": 11,
   "metadata": {},
   "outputs": [
    {
     "data": {
      "text/plain": [
       "0          aww thats bummer shoulda got david carr third day\n",
       "1          upset cant update facebook texting might cry r...\n",
       "2             dived many times ball managed save rest bounds\n",
       "3                           whole body feels itchy like fire\n",
       "4                       behaving all mad here cant see there\n",
       "                                 ...                        \n",
       "1599995                        woke school best feeling ever\n",
       "1599996                        cool hear old walt interviews\n",
       "1599997                      ready mojo makeover ask details\n",
       "1599998       happy birthday boo all time tupac amaru shakur\n",
       "1599999                                 happy charitytuesday\n",
       "Name: clean_text, Length: 1600000, dtype: object"
      ]
     },
     "execution_count": 11,
     "metadata": {},
     "output_type": "execute_result"
    }
   ],
   "source": [
    "tweets['clean_text']"
   ]
  },
  {
   "cell_type": "code",
   "execution_count": 12,
   "metadata": {},
   "outputs": [],
   "source": [
    "from keras.preprocessing.text import Tokenizer\n",
    "from keras_preprocessing.sequence import pad_sequences\n",
    "from nltk.tokenize import RegexpTokenizer\n",
    "\n",
    "tokenizer = RegexpTokenizer(r'\\s+',gaps=True)\n",
    "tweets['clean_text'] = tweets['clean_text'].apply(tokenizer.tokenize)\n",
    "tweets['clean_text'] = tweets['clean_text'].apply(lambda x: [lemmatizer.lemmatize(word) for word in x])"
   ]
  },
  {
   "cell_type": "code",
   "execution_count": 13,
   "metadata": {},
   "outputs": [
    {
     "data": {
      "text/plain": [
       "0          [aww, thats, bummer, shoulda, got, david, carr...\n",
       "1          [upset, cant, update, facebook, texting, might...\n",
       "2          [dived, many, time, ball, managed, save, rest,...\n",
       "3                     [whole, body, feel, itchy, like, fire]\n",
       "4               [behaving, all, mad, here, cant, see, there]\n",
       "                                 ...                        \n",
       "1599995                  [woke, school, best, feeling, ever]\n",
       "1599996                   [cool, hear, old, walt, interview]\n",
       "1599997                 [ready, mojo, makeover, ask, detail]\n",
       "1599998    [happy, birthday, boo, all, time, tupac, amaru...\n",
       "1599999                              [happy, charitytuesday]\n",
       "Name: clean_text, Length: 1600000, dtype: object"
      ]
     },
     "execution_count": 13,
     "metadata": {},
     "output_type": "execute_result"
    }
   ],
   "source": [
    "tweets['clean_text']"
   ]
  },
  {
   "cell_type": "code",
   "execution_count": 14,
   "metadata": {},
   "outputs": [
    {
     "name": "stdout",
     "output_type": "stream",
     "text": [
      "383840\n"
     ]
    }
   ],
   "source": [
    "# find number of unique words\n",
    "unique_words = set()\n",
    "for text in tweets['clean_text']:\n",
    "    for word in text:\n",
    "        unique_words.add(word)\n",
    "\n",
    "print(len(unique_words))"
   ]
  },
  {
   "cell_type": "code",
   "execution_count": 15,
   "metadata": {},
   "outputs": [
    {
     "data": {
      "text/html": [
       "<div>\n",
       "<style scoped>\n",
       "    .dataframe tbody tr th:only-of-type {\n",
       "        vertical-align: middle;\n",
       "    }\n",
       "\n",
       "    .dataframe tbody tr th {\n",
       "        vertical-align: top;\n",
       "    }\n",
       "\n",
       "    .dataframe thead th {\n",
       "        text-align: right;\n",
       "    }\n",
       "</style>\n",
       "<table border=\"1\" class=\"dataframe\">\n",
       "  <thead>\n",
       "    <tr style=\"text-align: right;\">\n",
       "      <th></th>\n",
       "      <th>sentiment</th>\n",
       "      <th>text</th>\n",
       "      <th>clean_text</th>\n",
       "    </tr>\n",
       "  </thead>\n",
       "  <tbody>\n",
       "    <tr>\n",
       "      <th>0</th>\n",
       "      <td>0</td>\n",
       "      <td>@switchfoot http://twitpic.com/2y1zl - Awww, t...</td>\n",
       "      <td>aww thats bummer shoulda got david carr third day</td>\n",
       "    </tr>\n",
       "    <tr>\n",
       "      <th>1</th>\n",
       "      <td>0</td>\n",
       "      <td>is upset that he can't update his Facebook by ...</td>\n",
       "      <td>upset cant update facebook texting might cry r...</td>\n",
       "    </tr>\n",
       "    <tr>\n",
       "      <th>2</th>\n",
       "      <td>0</td>\n",
       "      <td>@Kenichan I dived many times for the ball. Man...</td>\n",
       "      <td>dived many time ball managed save rest bound</td>\n",
       "    </tr>\n",
       "    <tr>\n",
       "      <th>3</th>\n",
       "      <td>0</td>\n",
       "      <td>my whole body feels itchy and like its on fire</td>\n",
       "      <td>whole body feel itchy like fire</td>\n",
       "    </tr>\n",
       "    <tr>\n",
       "      <th>4</th>\n",
       "      <td>0</td>\n",
       "      <td>@nationwideclass no, it's not behaving at all....</td>\n",
       "      <td>behaving all mad here cant see there</td>\n",
       "    </tr>\n",
       "    <tr>\n",
       "      <th>...</th>\n",
       "      <td>...</td>\n",
       "      <td>...</td>\n",
       "      <td>...</td>\n",
       "    </tr>\n",
       "    <tr>\n",
       "      <th>1599995</th>\n",
       "      <td>1</td>\n",
       "      <td>Just woke up. Having no school is the best fee...</td>\n",
       "      <td>woke school best feeling ever</td>\n",
       "    </tr>\n",
       "    <tr>\n",
       "      <th>1599996</th>\n",
       "      <td>1</td>\n",
       "      <td>TheWDB.com - Very cool to hear old Walt interv...</td>\n",
       "      <td>cool hear old walt interview</td>\n",
       "    </tr>\n",
       "    <tr>\n",
       "      <th>1599997</th>\n",
       "      <td>1</td>\n",
       "      <td>Are you ready for your MoJo Makeover? Ask me f...</td>\n",
       "      <td>ready mojo makeover ask detail</td>\n",
       "    </tr>\n",
       "    <tr>\n",
       "      <th>1599998</th>\n",
       "      <td>1</td>\n",
       "      <td>Happy 38th Birthday to my boo of alll time!!! ...</td>\n",
       "      <td>happy birthday boo all time tupac amaru shakur</td>\n",
       "    </tr>\n",
       "    <tr>\n",
       "      <th>1599999</th>\n",
       "      <td>1</td>\n",
       "      <td>happy #charitytuesday @theNSPCC @SparksCharity...</td>\n",
       "      <td>happy charitytuesday</td>\n",
       "    </tr>\n",
       "  </tbody>\n",
       "</table>\n",
       "<p>1600000 rows × 3 columns</p>\n",
       "</div>"
      ],
      "text/plain": [
       "         sentiment                                               text  \\\n",
       "0                0  @switchfoot http://twitpic.com/2y1zl - Awww, t...   \n",
       "1                0  is upset that he can't update his Facebook by ...   \n",
       "2                0  @Kenichan I dived many times for the ball. Man...   \n",
       "3                0    my whole body feels itchy and like its on fire    \n",
       "4                0  @nationwideclass no, it's not behaving at all....   \n",
       "...            ...                                                ...   \n",
       "1599995          1  Just woke up. Having no school is the best fee...   \n",
       "1599996          1  TheWDB.com - Very cool to hear old Walt interv...   \n",
       "1599997          1  Are you ready for your MoJo Makeover? Ask me f...   \n",
       "1599998          1  Happy 38th Birthday to my boo of alll time!!! ...   \n",
       "1599999          1  happy #charitytuesday @theNSPCC @SparksCharity...   \n",
       "\n",
       "                                                clean_text  \n",
       "0        aww thats bummer shoulda got david carr third day  \n",
       "1        upset cant update facebook texting might cry r...  \n",
       "2             dived many time ball managed save rest bound  \n",
       "3                          whole body feel itchy like fire  \n",
       "4                     behaving all mad here cant see there  \n",
       "...                                                    ...  \n",
       "1599995                      woke school best feeling ever  \n",
       "1599996                       cool hear old walt interview  \n",
       "1599997                     ready mojo makeover ask detail  \n",
       "1599998     happy birthday boo all time tupac amaru shakur  \n",
       "1599999                               happy charitytuesday  \n",
       "\n",
       "[1600000 rows x 3 columns]"
      ]
     },
     "execution_count": 15,
     "metadata": {},
     "output_type": "execute_result"
    }
   ],
   "source": [
    "tweets['clean_text'] = tweets['clean_text'].apply(lambda x: ' '.join(x))\n",
    "tweets"
   ]
  },
  {
   "cell_type": "code",
   "execution_count": 16,
   "metadata": {},
   "outputs": [],
   "source": [
    "max_len = 20\n",
    "tokenizer_keras = Tokenizer()\n",
    "tokenizer_keras.fit_on_texts(tweets['clean_text'].values)\n",
    "X = tokenizer_keras.texts_to_sequences(tweets['clean_text'].values)\n",
    "X = pad_sequences(X, maxlen=max_len, padding='post')\n",
    "y = tweets['sentiment'].values"
   ]
  },
  {
   "cell_type": "code",
   "execution_count": 23,
   "metadata": {},
   "outputs": [
    {
     "name": "stdout",
     "output_type": "stream",
     "text": [
      "(1119999, 20)\n",
      "(160001, 20)\n",
      "(320000, 20)\n"
     ]
    }
   ],
   "source": [
    "# Splitting dataset into train, test and validation\n",
    "train_ratio = 0.7\n",
    "validation_ratio = 0.2\n",
    "test_ratio = 0.1\n",
    "\n",
    "X_train, X_test, y_train, y_test = train_test_split(X,y, test_size=1-train_ratio, random_state=42)\n",
    "X_val, X_test, y_val, y_test = train_test_split(X_test,y_test, test_size=test_ratio/(test_ratio + validation_ratio), random_state=42)\n",
    "\n",
    "print(X_train.shape)\n",
    "print(X_test.shape)\n",
    "print(X_val.shape)"
   ]
  },
  {
   "cell_type": "code",
   "execution_count": 18,
   "metadata": {},
   "outputs": [
    {
     "data": {
      "text/plain": [
       "(383841, 200)"
      ]
     },
     "execution_count": 18,
     "metadata": {},
     "output_type": "execute_result"
    }
   ],
   "source": [
    "embedding_dim = 200\n",
    "max_features = len(tokenizer_keras.word_index)+1\n",
    "word_index = tokenizer_keras.word_index\n",
    "embedding_matrix = np.zeros((max_features, embedding_dim))\n",
    "\n",
    "for word, i in word_index.items():\n",
    "    if word in model:\n",
    "        embedding_matrix[i] = model[word]\n",
    "\n",
    "embedding_matrix.shape"
   ]
  },
  {
   "cell_type": "code",
   "execution_count": 24,
   "metadata": {},
   "outputs": [
    {
     "name": "stdout",
     "output_type": "stream",
     "text": [
      "Num GPUs Available:  1\n",
      "WARNING:tensorflow:Layer lstm_1 will not use cuDNN kernels since it doesn't meet the criteria. It will use a generic GPU kernel as fallback when running on GPU.\n",
      "WARNING:tensorflow:Layer lstm_1 will not use cuDNN kernels since it doesn't meet the criteria. It will use a generic GPU kernel as fallback when running on GPU.\n",
      "WARNING:tensorflow:Layer lstm_1 will not use cuDNN kernels since it doesn't meet the criteria. It will use a generic GPU kernel as fallback when running on GPU.\n",
      "Model: \"sequential_1\"\n",
      "_________________________________________________________________\n",
      " Layer (type)                Output Shape              Param #   \n",
      "=================================================================\n",
      " embedding_1 (Embedding)     (None, 20, 200)           76768200  \n",
      "                                                                 \n",
      " dropout_3 (Dropout)         (None, 20, 200)           0         \n",
      "                                                                 \n",
      " bidirectional_1 (Bidirectio  (None, 20, 600)          1202400   \n",
      " nal)                                                            \n",
      "                                                                 \n",
      " dropout_4 (Dropout)         (None, 20, 600)           0         \n",
      "                                                                 \n",
      " conv1d_1 (Conv1D)           (None, 18, 100)           180100    \n",
      "                                                                 \n",
      " global_max_pooling1d_1 (Glo  (None, 100)              0         \n",
      " balMaxPooling1D)                                                \n",
      "                                                                 \n",
      " dense_2 (Dense)             (None, 128)               12928     \n",
      "                                                                 \n",
      " dropout_5 (Dropout)         (None, 128)               0         \n",
      "                                                                 \n",
      " dense_3 (Dense)             (None, 1)                 129       \n",
      "                                                                 \n",
      "=================================================================\n",
      "Total params: 78,163,757\n",
      "Trainable params: 1,395,557\n",
      "Non-trainable params: 76,768,200\n",
      "_________________________________________________________________\n"
     ]
    }
   ],
   "source": [
    "# Building the LSTM classifier\n",
    "from keras.models import Sequential\n",
    "from keras.layers import Dense, Embedding, LSTM, Dropout, Bidirectional, Conv1D, GlobalMaxPooling1D\n",
    "from keras.optimizers import Adam\n",
    "from keras.regularizers import L2\n",
    "\n",
    "lstm_out = 300\n",
    "\n",
    "gpu = tf.config.list_physical_devices('GPU')\n",
    "tf.config.set_visible_devices(gpu[0], 'GPU')\n",
    "print(\"Num GPUs Available: \", len(gpu))\n",
    "\n",
    "with tf.device('/GPU:0'):\n",
    "    model = Sequential()\n",
    "    model.add(Embedding(input_dim=max_features, output_dim=embedding_dim, input_length=max_len, weights=[embedding_matrix], trainable=False))\n",
    "    model.add(Dropout(0.5))\n",
    "    model.add(Bidirectional(LSTM(lstm_out, dropout=0.2, recurrent_dropout=0.2, kernel_regularizer=L2(0.00001), return_sequences=True)))\n",
    "    model.add(Dropout(0.2))\n",
    "    model.add(Conv1D(100, kernel_size=3, activation='relu',kernel_regularizer=L2(0.00001)))\n",
    "    model.add(GlobalMaxPooling1D())\n",
    "    model.add(Dense(128, activation='relu', kernel_regularizer=L2(0.00001)))\n",
    "    model.add(Dropout(0.4))\n",
    "    model.add(Dense(1,activation='sigmoid'))\n",
    "    model.compile(loss = 'binary_crossentropy', optimizer=Adam(learning_rate=0.0001),metrics = ['accuracy'])\n",
    "\n",
    "model.summary()"
   ]
  },
  {
   "cell_type": "code",
   "execution_count": 25,
   "metadata": {},
   "outputs": [
    {
     "name": "stdout",
     "output_type": "stream",
     "text": [
      "Batch Size:  64 \n",
      "\n",
      "Epoch 1/10\n",
      "17500/17500 [==============================] - 2465s 141ms/step - loss: 0.5335 - accuracy: 0.7368 - val_loss: 0.4803 - val_accuracy: 0.7750\n",
      "Epoch 2/10\n",
      "17500/17500 [==============================] - 2440s 139ms/step - loss: 0.5057 - accuracy: 0.7564 - val_loss: 0.4704 - val_accuracy: 0.7801\n",
      "Epoch 3/10\n",
      "17500/17500 [==============================] - 2438s 139ms/step - loss: 0.4961 - accuracy: 0.7634 - val_loss: 0.4644 - val_accuracy: 0.7839\n",
      "Epoch 4/10\n",
      "17500/17500 [==============================] - 2441s 139ms/step - loss: 0.4906 - accuracy: 0.7671 - val_loss: 0.4609 - val_accuracy: 0.7857\n",
      "Epoch 5/10\n",
      "17500/17500 [==============================] - 2440s 139ms/step - loss: 0.4861 - accuracy: 0.7707 - val_loss: 0.4581 - val_accuracy: 0.7880\n",
      "Epoch 6/10\n",
      "17500/17500 [==============================] - 2443s 140ms/step - loss: 0.4828 - accuracy: 0.7727 - val_loss: 0.4552 - val_accuracy: 0.7902\n",
      "Epoch 7/10\n",
      "17500/17500 [==============================] - 2442s 140ms/step - loss: 0.4791 - accuracy: 0.7755 - val_loss: 0.4535 - val_accuracy: 0.7916\n",
      "Epoch 8/10\n",
      "17500/17500 [==============================] - 2441s 139ms/step - loss: 0.4771 - accuracy: 0.7770 - val_loss: 0.4529 - val_accuracy: 0.7926\n",
      "Epoch 9/10\n",
      "17500/17500 [==============================] - 2420s 138ms/step - loss: 0.4751 - accuracy: 0.7785 - val_loss: 0.4529 - val_accuracy: 0.7927\n",
      "Epoch 10/10\n",
      "17500/17500 [==============================] - 2419s 138ms/step - loss: 0.4733 - accuracy: 0.7795 - val_loss: 0.4514 - val_accuracy: 0.7933\n",
      "Batch Size:  128 \n",
      "\n",
      "Epoch 1/10\n",
      "8750/8750 [==============================] - 1231s 141ms/step - loss: 0.4699 - accuracy: 0.7820 - val_loss: 0.4489 - val_accuracy: 0.7952\n",
      "Epoch 2/10\n",
      "8750/8750 [==============================] - 1235s 141ms/step - loss: 0.4685 - accuracy: 0.7824 - val_loss: 0.4475 - val_accuracy: 0.7954\n",
      "Epoch 3/10\n",
      "8750/8750 [==============================] - 1232s 141ms/step - loss: 0.4673 - accuracy: 0.7830 - val_loss: 0.4468 - val_accuracy: 0.7967\n",
      "Epoch 4/10\n",
      "8750/8750 [==============================] - 1232s 141ms/step - loss: 0.4659 - accuracy: 0.7841 - val_loss: 0.4488 - val_accuracy: 0.7949\n",
      "Epoch 5/10\n",
      "8750/8750 [==============================] - 1245s 142ms/step - loss: 0.4650 - accuracy: 0.7846 - val_loss: 0.4503 - val_accuracy: 0.7946\n",
      "Epoch 6/10\n",
      "8750/8750 [==============================] - 1237s 141ms/step - loss: 0.4643 - accuracy: 0.7853 - val_loss: 0.4454 - val_accuracy: 0.7965\n",
      "Epoch 7/10\n",
      "8750/8750 [==============================] - 1225s 140ms/step - loss: 0.4630 - accuracy: 0.7860 - val_loss: 0.4448 - val_accuracy: 0.7975\n",
      "Epoch 8/10\n",
      "8750/8750 [==============================] - 1217s 139ms/step - loss: 0.4626 - accuracy: 0.7864 - val_loss: 0.4449 - val_accuracy: 0.7977\n",
      "Epoch 9/10\n",
      "8750/8750 [==============================] - 1224s 140ms/step - loss: 0.4618 - accuracy: 0.7872 - val_loss: 0.4440 - val_accuracy: 0.7983\n",
      "Epoch 10/10\n",
      "8750/8750 [==============================] - 1220s 139ms/step - loss: 0.4606 - accuracy: 0.7878 - val_loss: 0.4495 - val_accuracy: 0.7961\n",
      "Batch Size:  256 \n",
      "\n",
      "Epoch 1/10\n",
      "4375/4375 [==============================] - 578s 132ms/step - loss: 0.4586 - accuracy: 0.7890 - val_loss: 0.4441 - val_accuracy: 0.7984\n",
      "Epoch 2/10\n",
      "4375/4375 [==============================] - 577s 132ms/step - loss: 0.4579 - accuracy: 0.7897 - val_loss: 0.4420 - val_accuracy: 0.7989\n",
      "Epoch 3/10\n",
      "4375/4375 [==============================] - 576s 132ms/step - loss: 0.4570 - accuracy: 0.7895 - val_loss: 0.4425 - val_accuracy: 0.7990\n",
      "Epoch 4/10\n",
      "4375/4375 [==============================] - 578s 132ms/step - loss: 0.4564 - accuracy: 0.7903 - val_loss: 0.4415 - val_accuracy: 0.7998\n",
      "Epoch 5/10\n",
      "4375/4375 [==============================] - 578s 132ms/step - loss: 0.4558 - accuracy: 0.7907 - val_loss: 0.4420 - val_accuracy: 0.7997\n",
      "Epoch 6/10\n",
      "4375/4375 [==============================] - 579s 132ms/step - loss: 0.4555 - accuracy: 0.7909 - val_loss: 0.4434 - val_accuracy: 0.7995\n",
      "Epoch 7/10\n",
      "4375/4375 [==============================] - 579s 132ms/step - loss: 0.4552 - accuracy: 0.7907 - val_loss: 0.4438 - val_accuracy: 0.7988\n",
      "Batch Size:  512 \n",
      "\n",
      "Epoch 1/10\n",
      "2188/2188 [==============================] - 295s 135ms/step - loss: 0.4546 - accuracy: 0.7911 - val_loss: 0.4421 - val_accuracy: 0.7997\n",
      "Epoch 2/10\n",
      "2188/2188 [==============================] - 294s 134ms/step - loss: 0.4543 - accuracy: 0.7913 - val_loss: 0.4401 - val_accuracy: 0.8005\n",
      "Epoch 3/10\n",
      "2188/2188 [==============================] - 293s 134ms/step - loss: 0.4541 - accuracy: 0.7915 - val_loss: 0.4424 - val_accuracy: 0.7995\n",
      "Epoch 4/10\n",
      "2188/2188 [==============================] - 296s 135ms/step - loss: 0.4533 - accuracy: 0.7918 - val_loss: 0.4411 - val_accuracy: 0.7997\n",
      "Epoch 5/10\n",
      "2188/2188 [==============================] - 296s 135ms/step - loss: 0.4526 - accuracy: 0.7923 - val_loss: 0.4405 - val_accuracy: 0.8003\n",
      "Batch Size:  1024 \n",
      "\n",
      "Epoch 1/10\n",
      "1094/1094 [==============================] - 158s 144ms/step - loss: 0.4524 - accuracy: 0.7924 - val_loss: 0.4412 - val_accuracy: 0.8004\n",
      "Epoch 2/10\n",
      "1094/1094 [==============================] - 158s 145ms/step - loss: 0.4521 - accuracy: 0.7922 - val_loss: 0.4424 - val_accuracy: 0.8002\n",
      "Epoch 3/10\n",
      "1094/1094 [==============================] - 158s 144ms/step - loss: 0.4519 - accuracy: 0.7928 - val_loss: 0.4414 - val_accuracy: 0.7997\n",
      "Epoch 4/10\n",
      "1094/1094 [==============================] - 158s 145ms/step - loss: 0.4515 - accuracy: 0.7928 - val_loss: 0.4409 - val_accuracy: 0.7998\n",
      "Epoch 5/10\n",
      "1094/1094 [==============================] - 158s 144ms/step - loss: 0.4508 - accuracy: 0.7934 - val_loss: 0.4413 - val_accuracy: 0.7995\n",
      "Epoch 6/10\n",
      "1094/1094 [==============================] - 158s 145ms/step - loss: 0.4505 - accuracy: 0.7938 - val_loss: 0.4389 - val_accuracy: 0.8007\n",
      "Epoch 7/10\n",
      "1094/1094 [==============================] - 158s 144ms/step - loss: 0.4503 - accuracy: 0.7940 - val_loss: 0.4397 - val_accuracy: 0.8010\n",
      "Epoch 8/10\n",
      "1094/1094 [==============================] - 158s 145ms/step - loss: 0.4500 - accuracy: 0.7938 - val_loss: 0.4386 - val_accuracy: 0.8014\n",
      "Epoch 9/10\n",
      "1094/1094 [==============================] - 158s 144ms/step - loss: 0.4497 - accuracy: 0.7939 - val_loss: 0.4401 - val_accuracy: 0.8008\n",
      "Epoch 10/10\n",
      "1094/1094 [==============================] - 158s 145ms/step - loss: 0.4493 - accuracy: 0.7940 - val_loss: 0.4411 - val_accuracy: 0.8007\n"
     ]
    }
   ],
   "source": [
    "from keras import callbacks\n",
    "earlystopping = callbacks.EarlyStopping(\n",
    "    monitor='val_loss',\n",
    "    mode='min',\n",
    "    patience=10,\n",
    "    restore_best_weights=True\n",
    ")\n",
    "\n",
    "history = model.fit(X_train, y_train, epochs=200, batch_size=1024, validation_data=(X_val,y_val),callbacks=[earlystopping])"
   ]
  },
  {
   "cell_type": "code",
   "execution_count": 26,
   "metadata": {},
   "outputs": [
    {
     "data": {
      "image/png": "[encoded data removed]",
      "text/plain": [
       "<Figure size 432x288 with 1 Axes>"
      ]
     },
     "metadata": {
      "needs_background": "light"
     },
     "output_type": "display_data"
    }
   ],
   "source": [
    "plt.plot(best_history.history['loss'])\n",
    "plt.plot(best_history.history['val_loss'])\n",
    "plt.title('model loss')\n",
    "plt.ylabel('loss')\n",
    "plt.xlabel('epoch')\n",
    "plt.legend(['train','validation'], loc='upper left')\n",
    "plt.show()"
   ]
  },
  {
   "cell_type": "code",
   "execution_count": 27,
   "metadata": {},
   "outputs": [
    {
     "data": {
      "text/plain": [
       "1024"
      ]
     },
     "execution_count": 27,
     "metadata": {},
     "output_type": "execute_result"
    }
   ],
   "source": [
    "best_batch_size"
   ]
  },
  {
   "cell_type": "code",
   "execution_count": 31,
   "metadata": {},
   "outputs": [
    {
     "name": "stdout",
     "output_type": "stream",
     "text": [
      "157/157 - 4s - loss: 0.4392 - accuracy: 0.8004 - 4s/epoch - 27ms/step\n",
      "score: 0.44\n",
      "accuracy: 0.80\n",
      "5001/5001 [==============================] - 92s 18ms/step\n"
     ]
    },
    {
     "data": {
      "text/plain": [
       "<Axes: >"
      ]
     },
     "execution_count": 31,
     "metadata": {},
     "output_type": "execute_result"
    },
    {
     "data": {
      "image/png": "[encoded data removed]",
      "text/plain": [
       "<Figure size 432x288 with 2 Axes>"
      ]
     },
     "metadata": {
      "needs_background": "light"
     },
     "output_type": "display_data"
    }
   ],
   "source": [
    "score, acc = model.evaluate(X_test, y_test, verbose=2, batch_size=1024)\n",
    "print(\"score: %.2f\" % (score))\n",
    "print(\"accuracy: %.2f\" % (acc))\n",
    "y_pred = model.predict(X_test)\n",
    "y_pred = np.round(y_pred).astype(int)\n",
    "cfm = confusion_matrix(y_test, y_pred)\n",
    "sns.heatmap(cfm, annot=True, cmap='Blues')"
   ]
  },
  {
   "cell_type": "code",
   "execution_count": null,
   "metadata": {},
   "outputs": [],
   "source": []
  }
 ],
 "metadata": {
  "kernelspec": {
   "display_name": "Python 3",
   "language": "python",
   "name": "python3"
  },
  "language_info": {
   "codemirror_mode": {
    "name": "ipython",
    "version": 3
   },
   "file_extension": ".py",
   "mimetype": "text/x-python",
   "name": "python",
   "nbconvert_exporter": "python",
   "pygments_lexer": "ipython3",
   "version": "3.9.7"
  }
 },
 "nbformat": 4,
 "nbformat_minor": 2
}
