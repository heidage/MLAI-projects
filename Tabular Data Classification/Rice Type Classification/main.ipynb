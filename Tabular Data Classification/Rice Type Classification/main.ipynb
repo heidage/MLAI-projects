{
 "cells": [
  {
   "cell_type": "code",
   "execution_count": 6,
   "id": "9dbd742f",
   "metadata": {},
   "outputs": [],
   "source": [
    "import pandas as pd\n",
    "import numpy as np\n",
    "import matplotlib.pyplot as plt\n",
    "\n",
    "import torch\n",
    "import torch.nn as nn\n",
    "from torch.optim import Adam\n",
    "from torch.utils.data import DataLoader, Dataset\n",
    "from torchsummary import summary\n",
    "\n",
    "from sklearn.model_selection import train_test_split\n",
    "from sklearn.metrics import accuracy_score, f1_score"
   ]
  },
  {
   "cell_type": "code",
   "execution_count": 7,
   "id": "abe42b5e",
   "metadata": {},
   "outputs": [
    {
     "name": "stdout",
     "output_type": "stream",
     "text": [
      "Using device: cuda\n"
     ]
    }
   ],
   "source": [
    "#check if GPU is available\n",
    "device = torch.device(\"cuda\" if torch.cuda.is_available() else \"cpu\")\n",
    "print(f\"Using device: {device}\")"
   ]
  },
  {
   "cell_type": "code",
   "execution_count": 8,
   "id": "a1cf45bb",
   "metadata": {},
   "outputs": [
    {
     "data": {
      "text/html": [
       "<div>\n",
       "<style scoped>\n",
       "    .dataframe tbody tr th:only-of-type {\n",
       "        vertical-align: middle;\n",
       "    }\n",
       "\n",
       "    .dataframe tbody tr th {\n",
       "        vertical-align: top;\n",
       "    }\n",
       "\n",
       "    .dataframe thead th {\n",
       "        text-align: right;\n",
       "    }\n",
       "</style>\n",
       "<table border=\"1\" class=\"dataframe\">\n",
       "  <thead>\n",
       "    <tr style=\"text-align: right;\">\n",
       "      <th></th>\n",
       "      <th>id</th>\n",
       "      <th>Area</th>\n",
       "      <th>MajorAxisLength</th>\n",
       "      <th>MinorAxisLength</th>\n",
       "      <th>Eccentricity</th>\n",
       "      <th>ConvexArea</th>\n",
       "      <th>EquivDiameter</th>\n",
       "      <th>Extent</th>\n",
       "      <th>Perimeter</th>\n",
       "      <th>Roundness</th>\n",
       "      <th>AspectRation</th>\n",
       "      <th>Class</th>\n",
       "    </tr>\n",
       "  </thead>\n",
       "  <tbody>\n",
       "    <tr>\n",
       "      <th>0</th>\n",
       "      <td>1</td>\n",
       "      <td>4537</td>\n",
       "      <td>92.229316</td>\n",
       "      <td>64.012769</td>\n",
       "      <td>0.719916</td>\n",
       "      <td>4677</td>\n",
       "      <td>76.004525</td>\n",
       "      <td>0.657536</td>\n",
       "      <td>273.085</td>\n",
       "      <td>0.764510</td>\n",
       "      <td>1.440796</td>\n",
       "      <td>1</td>\n",
       "    </tr>\n",
       "    <tr>\n",
       "      <th>1</th>\n",
       "      <td>2</td>\n",
       "      <td>2872</td>\n",
       "      <td>74.691881</td>\n",
       "      <td>51.400454</td>\n",
       "      <td>0.725553</td>\n",
       "      <td>3015</td>\n",
       "      <td>60.471018</td>\n",
       "      <td>0.713009</td>\n",
       "      <td>208.317</td>\n",
       "      <td>0.831658</td>\n",
       "      <td>1.453137</td>\n",
       "      <td>1</td>\n",
       "    </tr>\n",
       "    <tr>\n",
       "      <th>2</th>\n",
       "      <td>3</td>\n",
       "      <td>3048</td>\n",
       "      <td>76.293164</td>\n",
       "      <td>52.043491</td>\n",
       "      <td>0.731211</td>\n",
       "      <td>3132</td>\n",
       "      <td>62.296341</td>\n",
       "      <td>0.759153</td>\n",
       "      <td>210.012</td>\n",
       "      <td>0.868434</td>\n",
       "      <td>1.465950</td>\n",
       "      <td>1</td>\n",
       "    </tr>\n",
       "    <tr>\n",
       "      <th>3</th>\n",
       "      <td>4</td>\n",
       "      <td>3073</td>\n",
       "      <td>77.033628</td>\n",
       "      <td>51.928487</td>\n",
       "      <td>0.738639</td>\n",
       "      <td>3157</td>\n",
       "      <td>62.551300</td>\n",
       "      <td>0.783529</td>\n",
       "      <td>210.657</td>\n",
       "      <td>0.870203</td>\n",
       "      <td>1.483456</td>\n",
       "      <td>1</td>\n",
       "    </tr>\n",
       "    <tr>\n",
       "      <th>4</th>\n",
       "      <td>5</td>\n",
       "      <td>3693</td>\n",
       "      <td>85.124785</td>\n",
       "      <td>56.374021</td>\n",
       "      <td>0.749282</td>\n",
       "      <td>3802</td>\n",
       "      <td>68.571668</td>\n",
       "      <td>0.769375</td>\n",
       "      <td>230.332</td>\n",
       "      <td>0.874743</td>\n",
       "      <td>1.510000</td>\n",
       "      <td>1</td>\n",
       "    </tr>\n",
       "  </tbody>\n",
       "</table>\n",
       "</div>"
      ],
      "text/plain": [
       "   id  Area  MajorAxisLength  MinorAxisLength  Eccentricity  ConvexArea  \\\n",
       "0   1  4537        92.229316        64.012769      0.719916        4677   \n",
       "1   2  2872        74.691881        51.400454      0.725553        3015   \n",
       "2   3  3048        76.293164        52.043491      0.731211        3132   \n",
       "3   4  3073        77.033628        51.928487      0.738639        3157   \n",
       "4   5  3693        85.124785        56.374021      0.749282        3802   \n",
       "\n",
       "   EquivDiameter    Extent  Perimeter  Roundness  AspectRation  Class  \n",
       "0      76.004525  0.657536    273.085   0.764510      1.440796      1  \n",
       "1      60.471018  0.713009    208.317   0.831658      1.453137      1  \n",
       "2      62.296341  0.759153    210.012   0.868434      1.465950      1  \n",
       "3      62.551300  0.783529    210.657   0.870203      1.483456      1  \n",
       "4      68.571668  0.769375    230.332   0.874743      1.510000      1  "
      ]
     },
     "execution_count": 8,
     "metadata": {},
     "output_type": "execute_result"
    }
   ],
   "source": [
    "data_df = pd.read_csv('./data/riceClassification.csv')\n",
    "data_df.head()"
   ]
  },
  {
   "cell_type": "code",
   "execution_count": 9,
   "id": "e8002282",
   "metadata": {},
   "outputs": [
    {
     "name": "stdout",
     "output_type": "stream",
     "text": [
      "(18185, 11)\n"
     ]
    }
   ],
   "source": [
    "data_df.dropna(inplace=True)\n",
    "data_df.drop(columns=['id'], inplace=True)\n",
    "print(data_df.shape)"
   ]
  },
  {
   "cell_type": "code",
   "execution_count": 11,
   "id": "5d81662b",
   "metadata": {},
   "outputs": [
    {
     "name": "stdout",
     "output_type": "stream",
     "text": [
      "Class\n",
      "1    9985\n",
      "0    8200\n",
      "Name: count, dtype: int64\n"
     ]
    }
   ],
   "source": [
    "print(data_df['Class'].value_counts())"
   ]
  },
  {
   "cell_type": "code",
   "execution_count": 12,
   "id": "c4cc1ea6",
   "metadata": {},
   "outputs": [
    {
     "data": {
      "text/html": [
       "<div>\n",
       "<style scoped>\n",
       "    .dataframe tbody tr th:only-of-type {\n",
       "        vertical-align: middle;\n",
       "    }\n",
       "\n",
       "    .dataframe tbody tr th {\n",
       "        vertical-align: top;\n",
       "    }\n",
       "\n",
       "    .dataframe thead th {\n",
       "        text-align: right;\n",
       "    }\n",
       "</style>\n",
       "<table border=\"1\" class=\"dataframe\">\n",
       "  <thead>\n",
       "    <tr style=\"text-align: right;\">\n",
       "      <th></th>\n",
       "      <th>Area</th>\n",
       "      <th>MajorAxisLength</th>\n",
       "      <th>MinorAxisLength</th>\n",
       "      <th>Eccentricity</th>\n",
       "      <th>ConvexArea</th>\n",
       "      <th>EquivDiameter</th>\n",
       "      <th>Extent</th>\n",
       "      <th>Perimeter</th>\n",
       "      <th>Roundness</th>\n",
       "      <th>AspectRation</th>\n",
       "      <th>Class</th>\n",
       "    </tr>\n",
       "  </thead>\n",
       "  <tbody>\n",
       "    <tr>\n",
       "      <th>0</th>\n",
       "      <td>0.444368</td>\n",
       "      <td>0.503404</td>\n",
       "      <td>0.775435</td>\n",
       "      <td>0.744658</td>\n",
       "      <td>0.424873</td>\n",
       "      <td>0.666610</td>\n",
       "      <td>0.741661</td>\n",
       "      <td>0.537029</td>\n",
       "      <td>0.844997</td>\n",
       "      <td>0.368316</td>\n",
       "      <td>1.0</td>\n",
       "    </tr>\n",
       "    <tr>\n",
       "      <th>1</th>\n",
       "      <td>0.281293</td>\n",
       "      <td>0.407681</td>\n",
       "      <td>0.622653</td>\n",
       "      <td>0.750489</td>\n",
       "      <td>0.273892</td>\n",
       "      <td>0.530370</td>\n",
       "      <td>0.804230</td>\n",
       "      <td>0.409661</td>\n",
       "      <td>0.919215</td>\n",
       "      <td>0.371471</td>\n",
       "      <td>1.0</td>\n",
       "    </tr>\n",
       "    <tr>\n",
       "      <th>2</th>\n",
       "      <td>0.298531</td>\n",
       "      <td>0.416421</td>\n",
       "      <td>0.630442</td>\n",
       "      <td>0.756341</td>\n",
       "      <td>0.284520</td>\n",
       "      <td>0.546380</td>\n",
       "      <td>0.856278</td>\n",
       "      <td>0.412994</td>\n",
       "      <td>0.959862</td>\n",
       "      <td>0.374747</td>\n",
       "      <td>1.0</td>\n",
       "    </tr>\n",
       "    <tr>\n",
       "      <th>3</th>\n",
       "      <td>0.300979</td>\n",
       "      <td>0.420463</td>\n",
       "      <td>0.629049</td>\n",
       "      <td>0.764024</td>\n",
       "      <td>0.286791</td>\n",
       "      <td>0.548616</td>\n",
       "      <td>0.883772</td>\n",
       "      <td>0.414262</td>\n",
       "      <td>0.961818</td>\n",
       "      <td>0.379222</td>\n",
       "      <td>1.0</td>\n",
       "    </tr>\n",
       "    <tr>\n",
       "      <th>4</th>\n",
       "      <td>0.361704</td>\n",
       "      <td>0.464626</td>\n",
       "      <td>0.682901</td>\n",
       "      <td>0.775033</td>\n",
       "      <td>0.345385</td>\n",
       "      <td>0.601418</td>\n",
       "      <td>0.867808</td>\n",
       "      <td>0.452954</td>\n",
       "      <td>0.966836</td>\n",
       "      <td>0.386007</td>\n",
       "      <td>1.0</td>\n",
       "    </tr>\n",
       "  </tbody>\n",
       "</table>\n",
       "</div>"
      ],
      "text/plain": [
       "       Area  MajorAxisLength  MinorAxisLength  Eccentricity  ConvexArea  \\\n",
       "0  0.444368         0.503404         0.775435      0.744658    0.424873   \n",
       "1  0.281293         0.407681         0.622653      0.750489    0.273892   \n",
       "2  0.298531         0.416421         0.630442      0.756341    0.284520   \n",
       "3  0.300979         0.420463         0.629049      0.764024    0.286791   \n",
       "4  0.361704         0.464626         0.682901      0.775033    0.345385   \n",
       "\n",
       "   EquivDiameter    Extent  Perimeter  Roundness  AspectRation  Class  \n",
       "0       0.666610  0.741661   0.537029   0.844997      0.368316    1.0  \n",
       "1       0.530370  0.804230   0.409661   0.919215      0.371471    1.0  \n",
       "2       0.546380  0.856278   0.412994   0.959862      0.374747    1.0  \n",
       "3       0.548616  0.883772   0.414262   0.961818      0.379222    1.0  \n",
       "4       0.601418  0.867808   0.452954   0.966836      0.386007    1.0  "
      ]
     },
     "execution_count": 12,
     "metadata": {},
     "output_type": "execute_result"
    }
   ],
   "source": [
    "original_df = data_df.copy()\n",
    "\n",
    "for column in data_df.columns:\n",
    "    data_df[column] = data_df[column]/data_df[column].abs().max()\n",
    "\n",
    "data_df.head()"
   ]
  },
  {
   "cell_type": "code",
   "execution_count": 13,
   "id": "6a433901",
   "metadata": {},
   "outputs": [],
   "source": [
    "X = np.array(data_df.iloc[:, :-1])\n",
    "Y = np.array(data_df.iloc[:, -1])"
   ]
  },
  {
   "cell_type": "code",
   "execution_count": 14,
   "id": "6f26d75d",
   "metadata": {},
   "outputs": [],
   "source": [
    "X_train, X_test, y_train, y_test = train_test_split(X, Y, test_size=0.3, random_state=42)\n",
    "X_test, X_val, y_test, y_val = train_test_split(X_test, y_test, test_size=0.5, random_state=42)"
   ]
  },
  {
   "cell_type": "code",
   "execution_count": 15,
   "id": "c26b33b8",
   "metadata": {},
   "outputs": [
    {
     "data": {
      "text/plain": [
       "((12729, 10), (2728, 10), (2728, 10))"
      ]
     },
     "execution_count": 15,
     "metadata": {},
     "output_type": "execute_result"
    }
   ],
   "source": [
    "X_train.shape, X_val.shape, X_test.shape"
   ]
  },
  {
   "cell_type": "code",
   "execution_count": 16,
   "id": "c9a25775",
   "metadata": {},
   "outputs": [],
   "source": [
    "class dataset(Dataset):\n",
    "    def __init__(self, X, Y):\n",
    "        self.X = torch.tensor(X, dtype=torch.float32).to(device)\n",
    "        self.Y = torch.tensor(Y, dtype=torch.float32).to(device)\n",
    "\n",
    "    def __len__(self):\n",
    "        return len(self.X)\n",
    "\n",
    "    def __getitem__(self, idx):\n",
    "        return self.X[idx], self.Y[idx]"
   ]
  },
  {
   "cell_type": "code",
   "execution_count": 17,
   "id": "daefb0d7",
   "metadata": {},
   "outputs": [],
   "source": [
    "training_data = dataset(X_train, y_train)\n",
    "validation_data = dataset(X_val, y_val)\n",
    "testing_data = dataset(X_test, y_test)"
   ]
  },
  {
   "cell_type": "code",
   "execution_count": 18,
   "id": "850c9f33",
   "metadata": {},
   "outputs": [],
   "source": [
    "train_dataloader = DataLoader(training_data, batch_size=8, shuffle=True)\n",
    "validation_dataloader = DataLoader(validation_data, batch_size=8, shuffle=False)\n",
    "testing_dataloader = DataLoader(testing_data, batch_size=8, shuffle=False)"
   ]
  },
  {
   "cell_type": "code",
   "execution_count": 19,
   "id": "357ebb40",
   "metadata": {},
   "outputs": [],
   "source": [
    "HIDDEN_NEURONS = 20\n",
    "\n",
    "class RiceModel(nn.Module):\n",
    "    def __init__(self):\n",
    "        super(RiceModel, self).__init__()\n",
    "        self.input_layer = nn.Linear(X.shape[1], HIDDEN_NEURONS)\n",
    "        self.linear = nn.Linear(HIDDEN_NEURONS, 1)\n",
    "        self.sigmoid = nn.Sigmoid()\n",
    "\n",
    "    def forward(self, x):\n",
    "        x = self.input_layer(x)\n",
    "        x = self.linear(x)\n",
    "        x = self.sigmoid(x)\n",
    "        return x\n",
    "    \n",
    "model = RiceModel().to(device)"
   ]
  },
  {
   "cell_type": "code",
   "execution_count": 21,
   "id": "d6d3bd94",
   "metadata": {},
   "outputs": [
    {
     "name": "stdout",
     "output_type": "stream",
     "text": [
      "==========================================================================================\n",
      "Layer (type:depth-idx)                   Output Shape              Param #\n",
      "==========================================================================================\n",
      "├─Linear: 1-1                            [-1, 20]                  220\n",
      "├─Linear: 1-2                            [-1, 1]                   21\n",
      "├─Sigmoid: 1-3                           [-1, 1]                   --\n",
      "==========================================================================================\n",
      "Total params: 241\n",
      "Trainable params: 241\n",
      "Non-trainable params: 0\n",
      "Total mult-adds (M): 0.00\n",
      "==========================================================================================\n",
      "Input size (MB): 0.00\n",
      "Forward/backward pass size (MB): 0.00\n",
      "Params size (MB): 0.00\n",
      "Estimated Total Size (MB): 0.00\n",
      "==========================================================================================\n"
     ]
    },
    {
     "data": {
      "text/plain": [
       "==========================================================================================\n",
       "Layer (type:depth-idx)                   Output Shape              Param #\n",
       "==========================================================================================\n",
       "├─Linear: 1-1                            [-1, 20]                  220\n",
       "├─Linear: 1-2                            [-1, 1]                   21\n",
       "├─Sigmoid: 1-3                           [-1, 1]                   --\n",
       "==========================================================================================\n",
       "Total params: 241\n",
       "Trainable params: 241\n",
       "Non-trainable params: 0\n",
       "Total mult-adds (M): 0.00\n",
       "==========================================================================================\n",
       "Input size (MB): 0.00\n",
       "Forward/backward pass size (MB): 0.00\n",
       "Params size (MB): 0.00\n",
       "Estimated Total Size (MB): 0.00\n",
       "=========================================================================================="
      ]
     },
     "execution_count": 21,
     "metadata": {},
     "output_type": "execute_result"
    }
   ],
   "source": [
    "summary(model,(X.shape[1],))"
   ]
  },
  {
   "cell_type": "code",
   "execution_count": 22,
   "id": "79d6f8a7",
   "metadata": {},
   "outputs": [],
   "source": [
    "# Define loss function and optimizer\n",
    "criterion = nn.BCELoss()\n",
    "optimizer = Adam(model.parameters(), lr=0.001)"
   ]
  },
  {
   "cell_type": "code",
   "execution_count": 23,
   "id": "7cae817e",
   "metadata": {},
   "outputs": [
    {
     "name": "stdout",
     "output_type": "stream",
     "text": [
      "Epoch no. 1/10 Train Loss: 0.4904 Train Accuracy: 92.0339 Validation Loss: 0.0294 Validation Accuracy: 98.4604\n",
      "=========================\n",
      "Epoch no. 2/10 Train Loss: 0.1051 Train Accuracy: 98.3659 Validation Loss: 0.0177 Validation Accuracy: 98.6437\n",
      "=========================\n",
      "Epoch no. 3/10 Train Loss: 0.0777 Train Accuracy: 98.4681 Validation Loss: 0.0158 Validation Accuracy: 98.6070\n",
      "=========================\n",
      "Epoch no. 4/10 Train Loss: 0.0721 Train Accuracy: 98.5545 Validation Loss: 0.0187 Validation Accuracy: 98.2405\n",
      "=========================\n",
      "Epoch no. 5/10 Train Loss: 0.0694 Train Accuracy: 98.4759 Validation Loss: 0.0150 Validation Accuracy: 98.6070\n",
      "=========================\n",
      "Epoch no. 6/10 Train Loss: 0.0707 Train Accuracy: 98.5702 Validation Loss: 0.0154 Validation Accuracy: 98.5704\n",
      "=========================\n",
      "Epoch no. 7/10 Train Loss: 0.0696 Train Accuracy: 98.5152 Validation Loss: 0.0164 Validation Accuracy: 98.2771\n",
      "=========================\n",
      "Epoch no. 8/10 Train Loss: 0.0677 Train Accuracy: 98.5388 Validation Loss: 0.0173 Validation Accuracy: 98.4238\n",
      "=========================\n",
      "Epoch no. 9/10 Train Loss: 0.0694 Train Accuracy: 98.4995 Validation Loss: 0.0151 Validation Accuracy: 98.5337\n",
      "=========================\n",
      "Epoch no. 10/10 Train Loss: 0.0690 Train Accuracy: 98.5859 Validation Loss: 0.0150 Validation Accuracy: 98.6070\n",
      "=========================\n"
     ]
    }
   ],
   "source": [
    "total_loss_train_plot = []\n",
    "total_loss_validation_plot = []\n",
    "total_acc_train_plot = []\n",
    "total_acc_validation_plot = []\n",
    "\n",
    "epochs = 10\n",
    "for epoch in range(epochs):\n",
    "    total_acc_train = 0\n",
    "    total_loss_train = 0\n",
    "    total_acc_val = 0\n",
    "    total_loss_val = 0\n",
    "\n",
    "    # Training phase (batch-wise)\n",
    "    for data in train_dataloader:\n",
    "        inputs, labels = data\n",
    "\n",
    "        prediction = model(inputs).squeeze(1)\n",
    "\n",
    "        batch_loss = criterion(prediction, labels)\n",
    "        total_loss_train += batch_loss.item()\n",
    "\n",
    "        acc = (prediction.round() == labels).sum().item()\n",
    "        total_acc_train += acc\n",
    "\n",
    "        batch_loss.backward()\n",
    "        optimizer.step()\n",
    "        optimizer.zero_grad()\n",
    "\n",
    "    with torch.no_grad():\n",
    "        for data in validation_dataloader:\n",
    "            inputs, labels = data\n",
    "\n",
    "            prediction = model(inputs). squeeze(1)\n",
    "\n",
    "            batch_loss = criterion(prediction, labels)\n",
    "            total_loss_val += batch_loss.item()\n",
    "\n",
    "            acc = (prediction.round() == labels).sum().item()\n",
    "            total_acc_val += acc\n",
    "\n",
    "    total_loss_train_plot.append(round(total_loss_train/1000, 4))\n",
    "    total_loss_validation_plot.append(round(total_loss_val/1000, 4))\n",
    "    total_acc_train_plot.append(round(total_acc_train/training_data.__len__() * 100, 4))\n",
    "    total_acc_validation_plot.append(round(total_acc_val/validation_data.__len__() * 100, 4))\n",
    "\n",
    "    print(f\"Epoch no. {epoch+1}/{epochs} Train Loss: {total_loss_train/1000:.4f} \"\n",
    "          f\"Train Accuracy: {total_acc_train/training_data.__len__() * 100:.4f} \"\n",
    "          f\"Validation Loss: {total_loss_val/1000:.4f} \"\n",
    "          f\"Validation Accuracy: {total_acc_val/validation_data.__len__() * 100:.4f}\")\n",
    "    \n",
    "    print(\"=\"*25)"
   ]
  },
  {
   "cell_type": "code",
   "execution_count": 24,
   "id": "0ff9380e",
   "metadata": {},
   "outputs": [
    {
     "name": "stdout",
     "output_type": "stream",
     "text": [
      "Test Loss: 0.0098 \n",
      "Test Accuracy: 98.9003\n"
     ]
    }
   ],
   "source": [
    "with torch.no_grad():\n",
    "    total_loss_test = 0\n",
    "    total_acc_test = 0\n",
    "    for data in testing_dataloader:\n",
    "        inputs, labels = data\n",
    "\n",
    "        prediction = model(inputs).squeeze(1)\n",
    "\n",
    "        batch_loss_test = criterion(prediction, labels)\n",
    "        total_loss_test += batch_loss_test.item()\n",
    "\n",
    "        acc = (prediction.round() == labels).sum().item()\n",
    "        total_acc_test += acc\n",
    "\n",
    "print(f\"Test Loss: {total_loss_test/1000:.4f} \")\n",
    "print(f\"Test Accuracy: {total_acc_test/testing_data.__len__() * 100:.4f}\")"
   ]
  },
  {
   "cell_type": "code",
   "execution_count": 28,
   "id": "9bd6505d",
   "metadata": {},
   "outputs": [
    {
     "data": {
      "text/plain": [
       "<matplotlib.legend.Legend at 0x1900bf07d90>"
      ]
     },
     "execution_count": 28,
     "metadata": {},
     "output_type": "execute_result"
    },
    {
     "data": {
      "image/png": "[encoded data removed]",
      "text/plain": [
       "<Figure size 1500x500 with 2 Axes>"
      ]
     },
     "metadata": {},
     "output_type": "display_data"
    }
   ],
   "source": [
    "fig, axs = plt.subplots(nrows=1, ncols=2, figsize=(15, 5))\n",
    "\n",
    "axs[0].plot(total_loss_train_plot, label='Training Loss')\n",
    "axs[0].plot(total_loss_validation_plot, label='Validation Loss')\n",
    "axs[0].set_title('Training and Validation Loss over Epochs')\n",
    "axs[0].set_xlabel('Epochs')\n",
    "axs[0].set_ylabel('Loss')\n",
    "axs[0].set_ylim([0,2])\n",
    "axs[0].legend()\n",
    "\n",
    "axs[1].plot(total_acc_train_plot, label='Training Accuracy')\n",
    "axs[1].plot(total_acc_validation_plot, label='Validation Accuracy')\n",
    "axs[1].set_title('Training and Validation Accuracy over Epochs')\n",
    "axs[1].set_xlabel('Epochs')\n",
    "axs[1].set_ylabel('Accuracy')\n",
    "axs[1].set_ylim([90,100])\n",
    "axs[1].legend()"
   ]
  },
  {
   "cell_type": "code",
   "execution_count": 30,
   "id": "de11d505",
   "metadata": {},
   "outputs": [
    {
     "name": "stdout",
     "output_type": "stream",
     "text": [
      "Prediction: 0.0\n"
     ]
    }
   ],
   "source": [
    "#inference\n",
    "area = 2353/original_df['Area'].abs().max()\n",
    "MajorAxisLength = 81/original_df['MajorAxisLength'].abs().max()\n",
    "MinorAxisLength = 43/original_df['MinorAxisLength'].abs().max()\n",
    "Eccentricity = 32/original_df['Eccentricity'].abs().max()\n",
    "ConvexArea = 12/original_df['ConvexArea'].abs().max()\n",
    "EquivDiameter = 33/original_df['EquivDiameter'].abs().max()\n",
    "Extent = 98/original_df['Extent'].abs().max()\n",
    "Perimeter = 927/original_df['Perimeter'].abs().max()\n",
    "Roundness = 677/original_df['Roundness'].abs().max()\n",
    "AspectRation = 24/original_df['AspectRation'].abs().max()\n",
    "\n",
    "prediction = model(torch.tensor([area, MajorAxisLength, MinorAxisLength, Eccentricity, ConvexArea,\n",
    "    EquivDiameter, Extent, Perimeter, Roundness, AspectRation], dtype=torch.float32).to(device))\n",
    "\n",
    "print(f\"Prediction: {prediction.item()}\")"
   ]
  },
  {
   "cell_type": "code",
   "execution_count": null,
   "id": "1c96705f",
   "metadata": {},
   "outputs": [],
   "source": []
  }
 ],
 "metadata": {
  "kernelspec": {
   "display_name": "proj2",
   "language": "python",
   "name": "python3"
  },
  "language_info": {
   "codemirror_mode": {
    "name": "ipython",
    "version": 3
   },
   "file_extension": ".py",
   "mimetype": "text/x-python",
   "name": "python",
   "nbconvert_exporter": "python",
   "pygments_lexer": "ipython3",
   "version": "3.10.15"
  }
 },
 "nbformat": 4,
 "nbformat_minor": 5
}
