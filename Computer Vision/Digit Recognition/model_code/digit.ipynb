{
 "cells": [
  {
   "attachments": {},
   "cell_type": "markdown",
   "metadata": {
    "id": "vqNu9am6qqN8"
   },
   "source": [
    "### Importing the dataset"
   ]
  },
  {
   "cell_type": "code",
   "execution_count": 37,
   "metadata": {
    "id": "sQsJ3xNDqqOH"
   },
   "outputs": [],
   "source": [
    "import numpy as np\n",
    "import tensorflow as tf\n",
    "import pandas as pd\n",
    "from tensorflow.keras.datasets import mnist\n",
    "import matplotlib.pyplot as plt"
   ]
  },
  {
   "attachments": {},
   "cell_type": "markdown",
   "metadata": {
    "id": "a2rUpeUVqqOL"
   },
   "source": [
    "### Preprocessing the Data"
   ]
  },
  {
   "cell_type": "code",
   "execution_count": 26,
   "metadata": {
    "colab": {
     "base_uri": "https://localhost:8080/"
    },
    "id": "4lOyzP09qqOM",
    "outputId": "aa81f72f-be02-4953-816f-03cc2989b0be"
   },
   "outputs": [],
   "source": [
    "from sklearn.model_selection import train_test_split\n",
    "import tensorflow as tf\n",
    "\n",
    "DATASET_SIZE = 70000\n",
    "TRAIN_RATIO = 0.7\n",
    "VALIDATION_RATIO = 0.2\n",
    "TEST_RATIO = 0.1\n",
    "\n",
    "(x_train, y_train), (x_test, y_test) = mnist.load_data()\n",
    "X = np.concatenate([x_train, x_test])\n",
    "y = np.concatenate([y_train, y_test])"
   ]
  },
  {
   "cell_type": "code",
   "execution_count": 27,
   "metadata": {},
   "outputs": [
    {
     "data": {
      "text/plain": [
       "(70000, 28, 28)"
      ]
     },
     "execution_count": 27,
     "metadata": {},
     "output_type": "execute_result"
    }
   ],
   "source": [
    "X.shape"
   ]
  },
  {
   "cell_type": "code",
   "execution_count": 28,
   "metadata": {},
   "outputs": [],
   "source": [
    "X_train, X_val, y_train, y_val = train_test_split(X, y, test_size=(1-TRAIN_RATIO))\n",
    "X_val, X_test, y_val, y_test = train_test_split(X_val, y_val, test_size=((TEST_RATIO/(VALIDATION_RATIO+TEST_RATIO))))"
   ]
  },
  {
   "cell_type": "code",
   "execution_count": 29,
   "metadata": {
    "colab": {
     "base_uri": "https://localhost:8080/"
    },
    "id": "GTorizx9vw8y",
    "outputId": "d9e1c1dd-dd8f-476b-81d0-e92745b1c6e1"
   },
   "outputs": [
    {
     "name": "stdout",
     "output_type": "stream",
     "text": [
      "Shape of train set:  (48999, 28, 28)\n",
      "Shape of validation set:  (14000, 28, 28)\n",
      "Shape of test set:  (7001, 28, 28)\n"
     ]
    }
   ],
   "source": [
    "#Preparing pixel for data\n",
    "X_train = X_train.astype('float32')\n",
    "X_val = X_val.astype('float32')\n",
    "X_test = X_test.astype('float32')\n",
    "\n",
    "X_train = X_train/255.0\n",
    "X_val = X_val/255.0\n",
    "X_test = X_test/255.0\n",
    "\n",
    "print(\"Shape of train set: \",X_train.shape)\n",
    "print(\"Shape of validation set: \", X_val.shape)\n",
    "print(\"Shape of test set: \",X_test.shape)"
   ]
  },
  {
   "attachments": {},
   "cell_type": "markdown",
   "metadata": {
    "id": "KmacrW9jqqOQ"
   },
   "source": [
    "#### Creating the model with Bayesian Optimization to get best hyprparameters"
   ]
  },
  {
   "cell_type": "code",
   "execution_count": 31,
   "metadata": {
    "id": "XRWIgV_OqqOS"
   },
   "outputs": [],
   "source": [
    "model = tf.keras.models.Sequential([\n",
    "    #Adding Convolutions\n",
    "    tf.keras.layers.Conv2D(64,kernel_size=3,input_shape=(28,28,1),kernel_regularizer=tf.keras.regularizers.l2(0.001)),\n",
    "    tf.keras.layers.BatchNormalization(),\n",
    "    tf.keras.layers.Activation('relu'),\n",
    "    tf.keras.layers.MaxPooling2D(2,2),\n",
    "    tf.keras.layers.Dropout(0.3),\n",
    "    tf.keras.layers.Conv2D(32,kernel_size=3,kernel_regularizer=tf.keras.regularizers.l2(0.001)),\n",
    "    tf.keras.layers.BatchNormalization(),\n",
    "    tf.keras.layers.Activation('relu'),\n",
    "    tf.keras.layers.MaxPooling2D(2,2),\n",
    "    tf.keras.layers.Dropout(0.25),\n",
    "    tf.keras.layers.Flatten(),\n",
    "    tf.keras.layers.Dense(128),\n",
    "    tf.keras.layers.BatchNormalization(),\n",
    "    tf.keras.layers.Activation('relu'),\n",
    "    tf.keras.layers.Dropout(0.25),\n",
    "    tf.keras.layers.Dense(10,activation='softmax')\n",
    "])"
   ]
  },
  {
   "cell_type": "code",
   "execution_count": 32,
   "metadata": {},
   "outputs": [
    {
     "name": "stdout",
     "output_type": "stream",
     "text": [
      "Model: \"sequential_15\"\n",
      "_________________________________________________________________\n",
      " Layer (type)                Output Shape              Param #   \n",
      "=================================================================\n",
      " conv2d_16 (Conv2D)          (None, 26, 26, 64)        640       \n",
      "                                                                 \n",
      " batch_normalization (BatchN  (None, 26, 26, 64)       256       \n",
      " ormalization)                                                   \n",
      "                                                                 \n",
      " activation_12 (Activation)  (None, 26, 26, 64)        0         \n",
      "                                                                 \n",
      " max_pooling2d_16 (MaxPoolin  (None, 13, 13, 64)       0         \n",
      " g2D)                                                            \n",
      "                                                                 \n",
      " dropout_37 (Dropout)        (None, 13, 13, 64)        0         \n",
      "                                                                 \n",
      " conv2d_17 (Conv2D)          (None, 11, 11, 32)        18464     \n",
      "                                                                 \n",
      " batch_normalization_1 (Batc  (None, 11, 11, 32)       128       \n",
      " hNormalization)                                                 \n",
      "                                                                 \n",
      " activation_13 (Activation)  (None, 11, 11, 32)        0         \n",
      "                                                                 \n",
      " max_pooling2d_17 (MaxPoolin  (None, 5, 5, 32)         0         \n",
      " g2D)                                                            \n",
      "                                                                 \n",
      " dropout_38 (Dropout)        (None, 5, 5, 32)          0         \n",
      "                                                                 \n",
      " flatten_15 (Flatten)        (None, 800)               0         \n",
      "                                                                 \n",
      " dense_46 (Dense)            (None, 128)               102528    \n",
      "                                                                 \n",
      " batch_normalization_2 (Batc  (None, 128)              512       \n",
      " hNormalization)                                                 \n",
      "                                                                 \n",
      " activation_14 (Activation)  (None, 128)               0         \n",
      "                                                                 \n",
      " dropout_39 (Dropout)        (None, 128)               0         \n",
      "                                                                 \n",
      " dense_47 (Dense)            (None, 10)                1290      \n",
      "                                                                 \n",
      "=================================================================\n",
      "Total params: 123,818\n",
      "Trainable params: 123,370\n",
      "Non-trainable params: 448\n",
      "_________________________________________________________________\n"
     ]
    }
   ],
   "source": [
    "model.summary()"
   ]
  },
  {
   "cell_type": "code",
   "execution_count": 33,
   "metadata": {},
   "outputs": [],
   "source": [
    "#variable learning rate\n",
    "variable_learning_rate = tf.keras.callbacks.ReduceLROnPlateau(monitor='val_loss', factor = 0.2, patience = 2)"
   ]
  },
  {
   "cell_type": "code",
   "execution_count": 35,
   "metadata": {},
   "outputs": [
    {
     "name": "stdout",
     "output_type": "stream",
     "text": [
      "Epoch 1/30\n",
      "766/766 [==============================] - 22s 27ms/step - loss: 0.2869 - accuracy: 0.9262 - val_loss: 0.1565 - val_accuracy: 0.9610 - lr: 0.0010\n",
      "Epoch 2/30\n",
      "766/766 [==============================] - 21s 27ms/step - loss: 0.1198 - accuracy: 0.9714 - val_loss: 0.0679 - val_accuracy: 0.9861 - lr: 0.0010\n",
      "Epoch 3/30\n",
      "766/766 [==============================] - 21s 28ms/step - loss: 0.0951 - accuracy: 0.9760 - val_loss: 0.0555 - val_accuracy: 0.9895 - lr: 0.0010\n",
      "Epoch 4/30\n",
      "766/766 [==============================] - 21s 27ms/step - loss: 0.0822 - accuracy: 0.9799 - val_loss: 0.0588 - val_accuracy: 0.9870 - lr: 0.0010\n",
      "Epoch 5/30\n",
      "766/766 [==============================] - 20s 26ms/step - loss: 0.0768 - accuracy: 0.9819 - val_loss: 0.0479 - val_accuracy: 0.9910 - lr: 0.0010\n",
      "Epoch 6/30\n",
      "766/766 [==============================] - 20s 26ms/step - loss: 0.0719 - accuracy: 0.9831 - val_loss: 0.0443 - val_accuracy: 0.9917 - lr: 0.0010\n",
      "Epoch 7/30\n",
      "766/766 [==============================] - 20s 26ms/step - loss: 0.0667 - accuracy: 0.9844 - val_loss: 0.0449 - val_accuracy: 0.9919 - lr: 0.0010\n",
      "Epoch 8/30\n",
      "766/766 [==============================] - 22s 28ms/step - loss: 0.0671 - accuracy: 0.9847 - val_loss: 0.0431 - val_accuracy: 0.9926 - lr: 0.0010\n",
      "Epoch 9/30\n",
      "766/766 [==============================] - 21s 28ms/step - loss: 0.0643 - accuracy: 0.9854 - val_loss: 0.0434 - val_accuracy: 0.9917 - lr: 0.0010\n",
      "Epoch 10/30\n",
      "766/766 [==============================] - 21s 28ms/step - loss: 0.0600 - accuracy: 0.9861 - val_loss: 0.0507 - val_accuracy: 0.9914 - lr: 0.0010\n",
      "Epoch 11/30\n",
      "766/766 [==============================] - 21s 27ms/step - loss: 0.0505 - accuracy: 0.9898 - val_loss: 0.0349 - val_accuracy: 0.9942 - lr: 2.0000e-04\n",
      "Epoch 12/30\n",
      "766/766 [==============================] - 21s 28ms/step - loss: 0.0468 - accuracy: 0.9906 - val_loss: 0.0320 - val_accuracy: 0.9946 - lr: 2.0000e-04\n",
      "Epoch 13/30\n",
      "766/766 [==============================] - 21s 27ms/step - loss: 0.0410 - accuracy: 0.9914 - val_loss: 0.0307 - val_accuracy: 0.9944 - lr: 2.0000e-04\n",
      "Epoch 14/30\n",
      "766/766 [==============================] - 20s 26ms/step - loss: 0.0382 - accuracy: 0.9920 - val_loss: 0.0305 - val_accuracy: 0.9942 - lr: 2.0000e-04\n",
      "Epoch 15/30\n",
      "766/766 [==============================] - 20s 26ms/step - loss: 0.0352 - accuracy: 0.9927 - val_loss: 0.0282 - val_accuracy: 0.9947 - lr: 2.0000e-04\n",
      "Epoch 16/30\n",
      "766/766 [==============================] - 20s 27ms/step - loss: 0.0356 - accuracy: 0.9919 - val_loss: 0.0293 - val_accuracy: 0.9941 - lr: 2.0000e-04\n",
      "Epoch 17/30\n",
      "766/766 [==============================] - 20s 26ms/step - loss: 0.0335 - accuracy: 0.9922 - val_loss: 0.0266 - val_accuracy: 0.9953 - lr: 2.0000e-04\n",
      "Epoch 18/30\n",
      "766/766 [==============================] - 20s 26ms/step - loss: 0.0332 - accuracy: 0.9925 - val_loss: 0.0268 - val_accuracy: 0.9946 - lr: 2.0000e-04\n",
      "Epoch 19/30\n",
      "766/766 [==============================] - 20s 26ms/step - loss: 0.0329 - accuracy: 0.9919 - val_loss: 0.0258 - val_accuracy: 0.9949 - lr: 2.0000e-04\n",
      "Epoch 20/30\n",
      "766/766 [==============================] - 20s 26ms/step - loss: 0.0332 - accuracy: 0.9923 - val_loss: 0.0252 - val_accuracy: 0.9949 - lr: 2.0000e-04\n",
      "Epoch 21/30\n",
      "766/766 [==============================] - 21s 28ms/step - loss: 0.0303 - accuracy: 0.9926 - val_loss: 0.0250 - val_accuracy: 0.9946 - lr: 2.0000e-04\n",
      "Epoch 22/30\n",
      "766/766 [==============================] - 23s 30ms/step - loss: 0.0296 - accuracy: 0.9928 - val_loss: 0.0254 - val_accuracy: 0.9943 - lr: 2.0000e-04\n",
      "Epoch 23/30\n",
      "766/766 [==============================] - 21s 28ms/step - loss: 0.0285 - accuracy: 0.9933 - val_loss: 0.0252 - val_accuracy: 0.9946 - lr: 2.0000e-04\n",
      "Epoch 24/30\n",
      "766/766 [==============================] - 21s 27ms/step - loss: 0.0270 - accuracy: 0.9940 - val_loss: 0.0236 - val_accuracy: 0.9951 - lr: 4.0000e-05\n",
      "Epoch 25/30\n",
      "766/766 [==============================] - 20s 27ms/step - loss: 0.0267 - accuracy: 0.9937 - val_loss: 0.0234 - val_accuracy: 0.9951 - lr: 4.0000e-05\n",
      "Epoch 26/30\n",
      "766/766 [==============================] - 20s 26ms/step - loss: 0.0256 - accuracy: 0.9940 - val_loss: 0.0233 - val_accuracy: 0.9951 - lr: 4.0000e-05\n",
      "Epoch 27/30\n",
      "766/766 [==============================] - 20s 26ms/step - loss: 0.0249 - accuracy: 0.9945 - val_loss: 0.0232 - val_accuracy: 0.9949 - lr: 4.0000e-05\n",
      "Epoch 28/30\n",
      "766/766 [==============================] - 20s 26ms/step - loss: 0.0257 - accuracy: 0.9936 - val_loss: 0.0230 - val_accuracy: 0.9949 - lr: 4.0000e-05\n",
      "Epoch 29/30\n",
      "766/766 [==============================] - 20s 26ms/step - loss: 0.0242 - accuracy: 0.9949 - val_loss: 0.0230 - val_accuracy: 0.9951 - lr: 4.0000e-05\n",
      "Epoch 30/30\n",
      "766/766 [==============================] - 20s 26ms/step - loss: 0.0248 - accuracy: 0.9945 - val_loss: 0.0226 - val_accuracy: 0.9951 - lr: 4.0000e-05\n"
     ]
    }
   ],
   "source": [
    "model.compile(optimizer='adam',loss='sparse_categorical_crossentropy',metrics=['accuracy'])\n",
    "history = model.fit(X_train,y_train,epochs=30,batch_size=64,callbacks=[variable_learning_rate],validation_data=(X_val,y_val))"
   ]
  },
  {
   "cell_type": "code",
   "execution_count": 36,
   "metadata": {},
   "outputs": [
    {
     "data": {
      "text/plain": [
       "<Figure size 432x288 with 0 Axes>"
      ]
     },
     "execution_count": 36,
     "metadata": {},
     "output_type": "execute_result"
    },
    {
     "data": {
      "image/png": "[encoded data removed]",
      "text/plain": [
       "<Figure size 432x288 with 1 Axes>"
      ]
     },
     "metadata": {
      "needs_background": "light"
     },
     "output_type": "display_data"
    },
    {
     "data": {
      "image/png": "[encoded data removed]",
      "text/plain": [
       "<Figure size 432x288 with 1 Axes>"
      ]
     },
     "metadata": {
      "needs_background": "light"
     },
     "output_type": "display_data"
    },
    {
     "data": {
      "text/plain": [
       "<Figure size 432x288 with 0 Axes>"
      ]
     },
     "metadata": {},
     "output_type": "display_data"
    }
   ],
   "source": [
    "%matplotlib inline\n",
    "\n",
    "import matplotlib.image  as mpimg\n",
    "import matplotlib.pyplot as plt\n",
    "\n",
    "#-----------------------------------------------------------\n",
    "# Retrieve a list of list results on training and test data\n",
    "# sets for each training epoch\n",
    "#-----------------------------------------------------------\n",
    "acc=history.history['accuracy']\n",
    "val_acc=history.history['val_accuracy']\n",
    "loss=history.history['loss']\n",
    "val_loss=history.history['val_loss']\n",
    "\n",
    "epochs=range(len(acc)) # Get number of epochs\n",
    "\n",
    "#------------------------------------------------\n",
    "# Plot training and validation accuracy per epoch\n",
    "#------------------------------------------------\n",
    "plt.plot(epochs, acc, 'r', \"Training Accuracy\")\n",
    "plt.plot(epochs, val_acc, 'b', \"Validation Accuracy\")\n",
    "plt.title('Training and validation accuracy')\n",
    "plt.figure()\n",
    "\n",
    "#------------------------------------------------\n",
    "# Plot training and validation loss per epoch\n",
    "#------------------------------------------------\n",
    "plt.plot(epochs, loss, 'r', \"Training Loss\")\n",
    "plt.plot(epochs, val_loss, 'b', \"Validation Loss\")\n",
    "plt.figure()"
   ]
  },
  {
   "cell_type": "code",
   "execution_count": 42,
   "metadata": {},
   "outputs": [
    {
     "data": {
      "text/plain": [
       "array([6, 1, 1, ..., 6, 2, 1], dtype=uint8)"
      ]
     },
     "execution_count": 42,
     "metadata": {},
     "output_type": "execute_result"
    }
   ],
   "source": [
    "y_test"
   ]
  },
  {
   "cell_type": "code",
   "execution_count": 47,
   "metadata": {},
   "outputs": [
    {
     "name": "stdout",
     "output_type": "stream",
     "text": [
      "219/219 [==============================] - 1s 4ms/step\n"
     ]
    },
    {
     "data": {
      "text/plain": [
       "array([6, 1, 1, ..., 6, 2, 1], dtype=int64)"
      ]
     },
     "execution_count": 47,
     "metadata": {},
     "output_type": "execute_result"
    }
   ],
   "source": [
    "results = model.predict(X_test)\n",
    "results = np.argmax(results,axis=1)\n",
    "results"
   ]
  },
  {
   "cell_type": "code",
   "execution_count": 51,
   "metadata": {},
   "outputs": [
    {
     "name": "stdout",
     "output_type": "stream",
     "text": [
      "Test accurayc: 99.41436937580346\n"
     ]
    }
   ],
   "source": [
    "score = 0\n",
    "for i in range(len(results)):\n",
    "    if results[i] == y_test[i]:\n",
    "        score+=1\n",
    "\n",
    "print(f\"Test accurayc: {(score*100)/7001}\")"
   ]
  },
  {
   "cell_type": "code",
   "execution_count": 65,
   "metadata": {},
   "outputs": [
    {
     "data": {
      "image/png": "[encoded data removed]",
      "text/plain": [
       "<Figure size 432x288 with 2 Axes>"
      ]
     },
     "metadata": {
      "needs_background": "light"
     },
     "output_type": "display_data"
    }
   ],
   "source": [
    "from sklearn import metrics\n",
    "\n",
    "cnf_mat = metrics.confusion_matrix(y_test,results)\n",
    "cm_display = metrics.ConfusionMatrixDisplay(confusion_matrix=cnf_mat,display_labels=[0,1,2,3,4,5,6,7,8,9])\n",
    "\n",
    "cm_display.plot()\n",
    "plt.show()"
   ]
  },
  {
   "attachments": {},
   "cell_type": "markdown",
   "metadata": {
    "id": "RumD3Zu_Kjjv"
   },
   "source": [
    "### Saving Final Model"
   ]
  },
  {
   "cell_type": "code",
   "execution_count": 52,
   "metadata": {
    "id": "ZU7y7gG3J5Yo"
   },
   "outputs": [],
   "source": [
    "model.save(\"final_model.h5\")"
   ]
  },
  {
   "attachments": {},
   "cell_type": "markdown",
   "metadata": {
    "id": "Q5breaq0qqOZ"
   },
   "source": [
    "### Predicting a image"
   ]
  },
  {
   "cell_type": "code",
   "execution_count": 53,
   "metadata": {},
   "outputs": [
    {
     "name": "stdout",
     "output_type": "stream",
     "text": [
      "Model: \"sequential_15\"\n",
      "_________________________________________________________________\n",
      " Layer (type)                Output Shape              Param #   \n",
      "=================================================================\n",
      " conv2d_16 (Conv2D)          (None, 26, 26, 64)        640       \n",
      "                                                                 \n",
      " batch_normalization (BatchN  (None, 26, 26, 64)       256       \n",
      " ormalization)                                                   \n",
      "                                                                 \n",
      " activation_12 (Activation)  (None, 26, 26, 64)        0         \n",
      "                                                                 \n",
      " max_pooling2d_16 (MaxPoolin  (None, 13, 13, 64)       0         \n",
      " g2D)                                                            \n",
      "                                                                 \n",
      " dropout_37 (Dropout)        (None, 13, 13, 64)        0         \n",
      "                                                                 \n",
      " conv2d_17 (Conv2D)          (None, 11, 11, 32)        18464     \n",
      "                                                                 \n",
      " batch_normalization_1 (Batc  (None, 11, 11, 32)       128       \n",
      " hNormalization)                                                 \n",
      "                                                                 \n",
      " activation_13 (Activation)  (None, 11, 11, 32)        0         \n",
      "                                                                 \n",
      " max_pooling2d_17 (MaxPoolin  (None, 5, 5, 32)         0         \n",
      " g2D)                                                            \n",
      "                                                                 \n",
      " dropout_38 (Dropout)        (None, 5, 5, 32)          0         \n",
      "                                                                 \n",
      " flatten_15 (Flatten)        (None, 800)               0         \n",
      "                                                                 \n",
      " dense_46 (Dense)            (None, 128)               102528    \n",
      "                                                                 \n",
      " batch_normalization_2 (Batc  (None, 128)              512       \n",
      " hNormalization)                                                 \n",
      "                                                                 \n",
      " activation_14 (Activation)  (None, 128)               0         \n",
      "                                                                 \n",
      " dropout_39 (Dropout)        (None, 128)               0         \n",
      "                                                                 \n",
      " dense_47 (Dense)            (None, 10)                1290      \n",
      "                                                                 \n",
      "=================================================================\n",
      "Total params: 123,818\n",
      "Trainable params: 123,370\n",
      "Non-trainable params: 448\n",
      "_________________________________________________________________\n"
     ]
    }
   ],
   "source": [
    "new_model = tf.keras.models.load_model('final_model.h5')\n",
    "new_model.summary()"
   ]
  },
  {
   "cell_type": "code",
   "execution_count": 57,
   "metadata": {},
   "outputs": [],
   "source": [
    "folder_path = \"./Handwritten Digit/\""
   ]
  },
  {
   "cell_type": "code",
   "execution_count": 62,
   "metadata": {},
   "outputs": [
    {
     "name": "stdout",
     "output_type": "stream",
     "text": [
      "1/1 [==============================] - 0s 19ms/step\n",
      "0\n",
      "1/1 [==============================] - 0s 13ms/step\n",
      "1\n",
      "1/1 [==============================] - 0s 13ms/step\n",
      "2\n",
      "1/1 [==============================] - 0s 14ms/step\n",
      "3\n",
      "1/1 [==============================] - 0s 13ms/step\n",
      "4\n",
      "1/1 [==============================] - 0s 13ms/step\n",
      "5\n",
      "1/1 [==============================] - 0s 14ms/step\n",
      "6\n",
      "1/1 [==============================] - 0s 13ms/step\n",
      "7\n",
      "1/1 [==============================] - 0s 13ms/step\n",
      "8\n",
      "1/1 [==============================] - 0s 13ms/step\n",
      "7\n"
     ]
    },
    {
     "data": {
      "image/png": "[encoded data removed]",
      "text/plain": [
       "<Figure size 432x288 with 1 Axes>"
      ]
     },
     "metadata": {
      "needs_background": "light"
     },
     "output_type": "display_data"
    }
   ],
   "source": [
    "import os\n",
    "import cv2\n",
    "\n",
    "for image in os.listdir(folder_path):\n",
    "    image_path = os.path.join(folder_path,image)\n",
    "    pred_image = cv2.imread(image_path,cv2.IMREAD_GRAYSCALE)\n",
    "\n",
    "    plt.imshow(pred_image,cmap='gray')\n",
    "\n",
    "    pred_img_resize = cv2.resize(pred_image,(28,28))\n",
    "    pred_img_resize = cv2.bitwise_not(pred_img_resize)\n",
    "    plt.imshow(pred_img_resize,cmap=\"gray\")\n",
    "\n",
    "    pred_img_normalized = pred_img_resize.astype('float32')/255.0\n",
    "    pred_img_normalized = pred_img_normalized.reshape(1,28,28,1)\n",
    "    result = new_model.predict(pred_img_normalized)\n",
    "    print(np.argmax(result))"
   ]
  },
  {
   "cell_type": "code",
   "execution_count": null,
   "metadata": {},
   "outputs": [],
   "source": []
  }
 ],
 "metadata": {
  "accelerator": "GPU",
  "colab": {
   "name": "digit.ipynb",
   "provenance": []
  },
  "interpreter": {
   "hash": "465c5b201858e001f3de52224df420302c022e48111b8e1e8429acbdd8e1444a"
  },
  "kernelspec": {
   "display_name": "Python 3 (ipykernel)",
   "language": "python",
   "name": "python3"
  },
  "language_info": {
   "codemirror_mode": {
    "name": "ipython",
    "version": 3
   },
   "file_extension": ".py",
   "mimetype": "text/x-python",
   "name": "python",
   "nbconvert_exporter": "python",
   "pygments_lexer": "ipython3",
   "version": "3.9.7"
  }
 },
 "nbformat": 4,
 "nbformat_minor": 1
}
